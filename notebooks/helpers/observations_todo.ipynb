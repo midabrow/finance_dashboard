{
 "cells": [
  {
   "cell_type": "markdown",
   "id": "553f6d28",
   "metadata": {},
   "source": [
    "## 🧠 Observations & To-Do Decisions"
   ]
  },
  {
   "cell_type": "markdown",
   "id": "ba65a717",
   "metadata": {},
   "source": [
    "\n",
    "\n",
    "| Observation | Planned Action |\n",
    "|-------------|----------------|\n",
    "| Niektóre cechy mimo że są numeryczne przedstawiają kategorie | Zamienić na CATEGORY |\n",
    "| Jest jeden zduplikowany wiersz | Usunąc |\n",
    "| Są outliery w kilku cechach numerycznych | Consider binning or treating as ordinal |\n",
    "| `chol` has some extreme values > 500 | Check for outliers and clip if needed |\n"
   ]
  },
  {
   "cell_type": "markdown",
   "id": "398da531",
   "metadata": {},
   "source": [
    "# Tuning hiperparametrów"
   ]
  },
  {
   "cell_type": "code",
   "execution_count": null,
   "id": "58324efe",
   "metadata": {},
   "outputs": [],
   "source": [
    "from helpers import model_utils as mdl\n",
    "from helpers import config as cf\n",
    "from helpers import data_visualization_utils as viz\n",
    "from helpers import metrics_utils as met\n",
    "from helpers import feature_engineering as fe"
   ]
  },
  {
   "cell_type": "markdown",
   "id": "f96a9047",
   "metadata": {},
   "source": [
    "## 1. Utworzenie słownika z parametrami dla każdego modelu \n"
   ]
  },
  {
   "cell_type": "code",
   "execution_count": null,
   "id": "74d4ca29",
   "metadata": {},
   "outputs": [],
   "source": [
    "rf_params = {\n",
    "    'n_estimators': np.arange(50, 301, 50),         # Liczba drzew (od 50 do 300 co 50)\n",
    "    'max_depth': [None, 10, 20, 30],                # Maksymalna głębokość (None oznacza brak limitu)\n",
    "    'min_samples_split': [2, 5, 10],                # Minimalna liczba próbek do podziału węzła\n",
    "    'min_samples_leaf': [1, 2, 4],                  # Minimalna liczba próbek w liściu\n",
    "    'max_features': ['sqrt', 'log2', None],         # Liczba cech do rozważenia przy podziale\n",
    "    'bootstrap': [True, False],                     # Czy używać bootstrapu do losowania próbek\n",
    "    'oob_score': [True, False],                     # Ocena błędu na danych spoza próby\n",
    "    'random_state': [42]                            # Ustalony seed losowy dla reprodukowalności wyników\n",
    "}"
   ]
  },
  {
   "cell_type": "markdown",
   "id": "22c47fab",
   "metadata": {},
   "source": [
    "## 2. Utworzenie listy słowników modeli: "
   ]
  },
  {
   "cell_type": "code",
   "execution_count": null,
   "id": "79bc73c5",
   "metadata": {},
   "outputs": [],
   "source": [
    "models = [\n",
    "    # {'name': 'SVC', 'model': SVC, 'params': svc_params}\n",
    "    # {'name': 'Random Forest', 'model': RandomForestClassifier, 'params': rf_params}\n",
    "    {'name': 'Gaussian Naive Bayes', 'model': GaussianNB, 'params': gnb_params}\n",
    "]"
   ]
  },
  {
   "cell_type": "markdown",
   "id": "590392a3",
   "metadata": {},
   "source": [
    "## 3. Uruchomienie analizy każdego modelu\n"
   ]
  },
  {
   "cell_type": "markdown",
   "id": "9406eb95",
   "metadata": {},
   "source": [
    "Dostaniemy\n",
    "- Best Model\n",
    "- Train Accuracy\n",
    "- Test Acuuracy \n",
    "- Best Cross-validation Score"
   ]
  },
  {
   "cell_type": "code",
   "execution_count": null,
   "id": "30d0be4b",
   "metadata": {},
   "outputs": [],
   "source": [
    "result = mdl.run_model_comparison(models, X_train, y_train, X_test, y_test)\n",
    "result"
   ]
  }
 ],
 "metadata": {
  "language_info": {
   "name": "python"
  }
 },
 "nbformat": 4,
 "nbformat_minor": 5
}
